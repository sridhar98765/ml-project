{
 "cells": [
  {
   "cell_type": "markdown",
   "id": "ec6f55dd",
   "metadata": {},
   "source": [
    "Import all required libraries"
   ]
  },
  {
   "cell_type": "code",
   "execution_count": 2,
   "id": "de3f830f",
   "metadata": {
    "execution": {
     "iopub.execute_input": "2024-09-12T20:56:59.172832Z",
     "iopub.status.busy": "2024-09-12T20:56:59.172277Z",
     "iopub.status.idle": "2024-09-12T20:57:03.360634Z",
     "shell.execute_reply": "2024-09-12T20:57:03.359429Z"
    },
    "papermill": {
     "duration": 4.211599,
     "end_time": "2024-09-12T20:57:03.363759",
     "exception": false,
     "start_time": "2024-09-12T20:56:59.152160",
     "status": "completed"
    },
    "tags": []
   },
   "outputs": [],
   "source": [
    "import numpy as np # linear algebra\n",
    "import pandas as pd # data processing, CSV file I/O (e.g. pd.read_csv)\n",
    "import matplotlib.pyplot as plt\n",
    "import seaborn as sns\n",
    "from sklearn.model_selection import train_test_split, GridSearchCV\n",
    "from sklearn.preprocessing import StandardScaler, LabelEncoder, OneHotEncoder\n",
    "import warnings\n",
    "warnings.filterwarnings('ignore', category=FutureWarning)\n",
    "from sklearn.linear_model import LogisticRegression\n",
    "from sklearn.ensemble import RandomForestClassifier, GradientBoostingClassifier, AdaBoostClassifier, BaggingClassifier\n",
    "from xgboost import XGBClassifier\n",
    "import lightgbm as lgb\n",
    "from sklearn.metrics import accuracy_score, precision_score, recall_score, f1_score, roc_auc_score\n",
    "from sklearn.tree import DecisionTreeClassifier\n",
    "from sklearn.svm import SVC\n",
    "from sklearn.impute import KNNImputer\n",
    "from sklearn.neighbors import KNeighborsClassifier\n",
    "from sklearn.metrics import accuracy_score, precision_score, recall_score, roc_auc_score, confusion_matrix, classification_report\n",
    "from imblearn.over_sampling import SMOTE"
   ]
  },
  {
   "cell_type": "code",
   "execution_count": 3,
   "id": "00d92b34",
   "metadata": {
    "execution": {
     "iopub.execute_input": "2024-09-12T20:57:03.403620Z",
     "iopub.status.busy": "2024-09-12T20:57:03.402966Z",
     "iopub.status.idle": "2024-09-12T20:57:03.543583Z",
     "shell.execute_reply": "2024-09-12T20:57:03.542372Z"
    },
    "papermill": {
     "duration": 0.163673,
     "end_time": "2024-09-12T20:57:03.546465",
     "exception": false,
     "start_time": "2024-09-12T20:57:03.382792",
     "status": "completed"
    },
    "tags": []
   },
   "outputs": [
    {
     "data": {
      "text/html": [
       "<div>\n",
       "<style scoped>\n",
       "    .dataframe tbody tr th:only-of-type {\n",
       "        vertical-align: middle;\n",
       "    }\n",
       "\n",
       "    .dataframe tbody tr th {\n",
       "        vertical-align: top;\n",
       "    }\n",
       "\n",
       "    .dataframe thead th {\n",
       "        text-align: right;\n",
       "    }\n",
       "</style>\n",
       "<table border=\"1\" class=\"dataframe\">\n",
       "  <thead>\n",
       "    <tr style=\"text-align: right;\">\n",
       "      <th></th>\n",
       "      <th>person_age</th>\n",
       "      <th>person_income</th>\n",
       "      <th>person_home_ownership</th>\n",
       "      <th>person_emp_length</th>\n",
       "      <th>loan_intent</th>\n",
       "      <th>loan_grade</th>\n",
       "      <th>loan_amnt</th>\n",
       "      <th>loan_int_rate</th>\n",
       "      <th>loan_status</th>\n",
       "      <th>loan_percent_income</th>\n",
       "      <th>cb_person_default_on_file</th>\n",
       "      <th>cb_person_cred_hist_length</th>\n",
       "    </tr>\n",
       "  </thead>\n",
       "  <tbody>\n",
       "    <tr>\n",
       "      <th>0</th>\n",
       "      <td>22</td>\n",
       "      <td>59000</td>\n",
       "      <td>RENT</td>\n",
       "      <td>123.0</td>\n",
       "      <td>PERSONAL</td>\n",
       "      <td>D</td>\n",
       "      <td>35000</td>\n",
       "      <td>16.02</td>\n",
       "      <td>1</td>\n",
       "      <td>0.59</td>\n",
       "      <td>Y</td>\n",
       "      <td>3</td>\n",
       "    </tr>\n",
       "    <tr>\n",
       "      <th>1</th>\n",
       "      <td>21</td>\n",
       "      <td>9600</td>\n",
       "      <td>OWN</td>\n",
       "      <td>5.0</td>\n",
       "      <td>EDUCATION</td>\n",
       "      <td>B</td>\n",
       "      <td>1000</td>\n",
       "      <td>11.14</td>\n",
       "      <td>0</td>\n",
       "      <td>0.10</td>\n",
       "      <td>N</td>\n",
       "      <td>2</td>\n",
       "    </tr>\n",
       "    <tr>\n",
       "      <th>2</th>\n",
       "      <td>25</td>\n",
       "      <td>9600</td>\n",
       "      <td>MORTGAGE</td>\n",
       "      <td>1.0</td>\n",
       "      <td>MEDICAL</td>\n",
       "      <td>C</td>\n",
       "      <td>5500</td>\n",
       "      <td>12.87</td>\n",
       "      <td>1</td>\n",
       "      <td>0.57</td>\n",
       "      <td>N</td>\n",
       "      <td>3</td>\n",
       "    </tr>\n",
       "    <tr>\n",
       "      <th>3</th>\n",
       "      <td>23</td>\n",
       "      <td>65500</td>\n",
       "      <td>RENT</td>\n",
       "      <td>4.0</td>\n",
       "      <td>MEDICAL</td>\n",
       "      <td>C</td>\n",
       "      <td>35000</td>\n",
       "      <td>15.23</td>\n",
       "      <td>1</td>\n",
       "      <td>0.53</td>\n",
       "      <td>N</td>\n",
       "      <td>2</td>\n",
       "    </tr>\n",
       "    <tr>\n",
       "      <th>4</th>\n",
       "      <td>24</td>\n",
       "      <td>54400</td>\n",
       "      <td>RENT</td>\n",
       "      <td>8.0</td>\n",
       "      <td>MEDICAL</td>\n",
       "      <td>C</td>\n",
       "      <td>35000</td>\n",
       "      <td>14.27</td>\n",
       "      <td>1</td>\n",
       "      <td>0.55</td>\n",
       "      <td>Y</td>\n",
       "      <td>4</td>\n",
       "    </tr>\n",
       "    <tr>\n",
       "      <th>...</th>\n",
       "      <td>...</td>\n",
       "      <td>...</td>\n",
       "      <td>...</td>\n",
       "      <td>...</td>\n",
       "      <td>...</td>\n",
       "      <td>...</td>\n",
       "      <td>...</td>\n",
       "      <td>...</td>\n",
       "      <td>...</td>\n",
       "      <td>...</td>\n",
       "      <td>...</td>\n",
       "      <td>...</td>\n",
       "    </tr>\n",
       "    <tr>\n",
       "      <th>32576</th>\n",
       "      <td>57</td>\n",
       "      <td>53000</td>\n",
       "      <td>MORTGAGE</td>\n",
       "      <td>1.0</td>\n",
       "      <td>PERSONAL</td>\n",
       "      <td>C</td>\n",
       "      <td>5800</td>\n",
       "      <td>13.16</td>\n",
       "      <td>0</td>\n",
       "      <td>0.11</td>\n",
       "      <td>N</td>\n",
       "      <td>30</td>\n",
       "    </tr>\n",
       "    <tr>\n",
       "      <th>32577</th>\n",
       "      <td>54</td>\n",
       "      <td>120000</td>\n",
       "      <td>MORTGAGE</td>\n",
       "      <td>4.0</td>\n",
       "      <td>PERSONAL</td>\n",
       "      <td>A</td>\n",
       "      <td>17625</td>\n",
       "      <td>7.49</td>\n",
       "      <td>0</td>\n",
       "      <td>0.15</td>\n",
       "      <td>N</td>\n",
       "      <td>19</td>\n",
       "    </tr>\n",
       "    <tr>\n",
       "      <th>32578</th>\n",
       "      <td>65</td>\n",
       "      <td>76000</td>\n",
       "      <td>RENT</td>\n",
       "      <td>3.0</td>\n",
       "      <td>HOMEIMPROVEMENT</td>\n",
       "      <td>B</td>\n",
       "      <td>35000</td>\n",
       "      <td>10.99</td>\n",
       "      <td>1</td>\n",
       "      <td>0.46</td>\n",
       "      <td>N</td>\n",
       "      <td>28</td>\n",
       "    </tr>\n",
       "    <tr>\n",
       "      <th>32579</th>\n",
       "      <td>56</td>\n",
       "      <td>150000</td>\n",
       "      <td>MORTGAGE</td>\n",
       "      <td>5.0</td>\n",
       "      <td>PERSONAL</td>\n",
       "      <td>B</td>\n",
       "      <td>15000</td>\n",
       "      <td>11.48</td>\n",
       "      <td>0</td>\n",
       "      <td>0.10</td>\n",
       "      <td>N</td>\n",
       "      <td>26</td>\n",
       "    </tr>\n",
       "    <tr>\n",
       "      <th>32580</th>\n",
       "      <td>66</td>\n",
       "      <td>42000</td>\n",
       "      <td>RENT</td>\n",
       "      <td>2.0</td>\n",
       "      <td>MEDICAL</td>\n",
       "      <td>B</td>\n",
       "      <td>6475</td>\n",
       "      <td>9.99</td>\n",
       "      <td>0</td>\n",
       "      <td>0.15</td>\n",
       "      <td>N</td>\n",
       "      <td>30</td>\n",
       "    </tr>\n",
       "  </tbody>\n",
       "</table>\n",
       "<p>32581 rows × 12 columns</p>\n",
       "</div>"
      ],
      "text/plain": [
       "       person_age  person_income person_home_ownership  person_emp_length  \\\n",
       "0              22          59000                  RENT              123.0   \n",
       "1              21           9600                   OWN                5.0   \n",
       "2              25           9600              MORTGAGE                1.0   \n",
       "3              23          65500                  RENT                4.0   \n",
       "4              24          54400                  RENT                8.0   \n",
       "...           ...            ...                   ...                ...   \n",
       "32576          57          53000              MORTGAGE                1.0   \n",
       "32577          54         120000              MORTGAGE                4.0   \n",
       "32578          65          76000                  RENT                3.0   \n",
       "32579          56         150000              MORTGAGE                5.0   \n",
       "32580          66          42000                  RENT                2.0   \n",
       "\n",
       "           loan_intent loan_grade  loan_amnt  loan_int_rate  loan_status  \\\n",
       "0             PERSONAL          D      35000          16.02            1   \n",
       "1            EDUCATION          B       1000          11.14            0   \n",
       "2              MEDICAL          C       5500          12.87            1   \n",
       "3              MEDICAL          C      35000          15.23            1   \n",
       "4              MEDICAL          C      35000          14.27            1   \n",
       "...                ...        ...        ...            ...          ...   \n",
       "32576         PERSONAL          C       5800          13.16            0   \n",
       "32577         PERSONAL          A      17625           7.49            0   \n",
       "32578  HOMEIMPROVEMENT          B      35000          10.99            1   \n",
       "32579         PERSONAL          B      15000          11.48            0   \n",
       "32580          MEDICAL          B       6475           9.99            0   \n",
       "\n",
       "       loan_percent_income cb_person_default_on_file  \\\n",
       "0                     0.59                         Y   \n",
       "1                     0.10                         N   \n",
       "2                     0.57                         N   \n",
       "3                     0.53                         N   \n",
       "4                     0.55                         Y   \n",
       "...                    ...                       ...   \n",
       "32576                 0.11                         N   \n",
       "32577                 0.15                         N   \n",
       "32578                 0.46                         N   \n",
       "32579                 0.10                         N   \n",
       "32580                 0.15                         N   \n",
       "\n",
       "       cb_person_cred_hist_length  \n",
       "0                               3  \n",
       "1                               2  \n",
       "2                               3  \n",
       "3                               2  \n",
       "4                               4  \n",
       "...                           ...  \n",
       "32576                          30  \n",
       "32577                          19  \n",
       "32578                          28  \n",
       "32579                          26  \n",
       "32580                          30  \n",
       "\n",
       "[32581 rows x 12 columns]"
      ]
     },
     "execution_count": 3,
     "metadata": {},
     "output_type": "execute_result"
    }
   ],
   "source": [
    "df = pd.read_csv('/kaggle/input/credit-risk-dataset/credit_risk_dataset.csv')\n",
    "df"
   ]
  },
  {
   "cell_type": "code",
   "execution_count": 4,
   "id": "3a770e87",
   "metadata": {
    "execution": {
     "iopub.execute_input": "2024-09-12T20:57:03.586911Z",
     "iopub.status.busy": "2024-09-12T20:57:03.586434Z",
     "iopub.status.idle": "2024-09-12T20:57:03.592675Z",
     "shell.execute_reply": "2024-09-12T20:57:03.591275Z"
    },
    "papermill": {
     "duration": 0.02953,
     "end_time": "2024-09-12T20:57:03.595354",
     "exception": false,
     "start_time": "2024-09-12T20:57:03.565824",
     "status": "completed"
    },
    "tags": []
   },
   "outputs": [],
   "source": [
    "df.reset_index(drop=True,inplace=True)"
   ]
  },
  {
   "cell_type": "markdown",
   "id": "ee0d56c0",
   "metadata": {},
   "source": [
    "Initial pre-processing"
   ]
  },
  {
   "cell_type": "code",
   "execution_count": 5,
   "id": "62f80bf0",
   "metadata": {
    "execution": {
     "iopub.execute_input": "2024-09-12T20:57:03.637737Z",
     "iopub.status.busy": "2024-09-12T20:57:03.637279Z",
     "iopub.status.idle": "2024-09-12T20:57:03.656545Z",
     "shell.execute_reply": "2024-09-12T20:57:03.655363Z"
    },
    "papermill": {
     "duration": 0.043151,
     "end_time": "2024-09-12T20:57:03.659680",
     "exception": false,
     "start_time": "2024-09-12T20:57:03.616529",
     "status": "completed"
    },
    "tags": []
   },
   "outputs": [
    {
     "data": {
      "text/html": [
       "<div>\n",
       "<style scoped>\n",
       "    .dataframe tbody tr th:only-of-type {\n",
       "        vertical-align: middle;\n",
       "    }\n",
       "\n",
       "    .dataframe tbody tr th {\n",
       "        vertical-align: top;\n",
       "    }\n",
       "\n",
       "    .dataframe thead th {\n",
       "        text-align: right;\n",
       "    }\n",
       "</style>\n",
       "<table border=\"1\" class=\"dataframe\">\n",
       "  <thead>\n",
       "    <tr style=\"text-align: right;\">\n",
       "      <th></th>\n",
       "      <th>person_age</th>\n",
       "      <th>person_income</th>\n",
       "      <th>person_home_ownership</th>\n",
       "      <th>person_emp_length</th>\n",
       "      <th>loan_intent</th>\n",
       "      <th>loan_grade</th>\n",
       "      <th>loan_amnt</th>\n",
       "      <th>loan_int_rate</th>\n",
       "      <th>loan_status</th>\n",
       "      <th>loan_percent_income</th>\n",
       "      <th>cb_person_default_on_file</th>\n",
       "      <th>cb_person_cred_hist_length</th>\n",
       "    </tr>\n",
       "  </thead>\n",
       "  <tbody>\n",
       "    <tr>\n",
       "      <th>0</th>\n",
       "      <td>22</td>\n",
       "      <td>59000</td>\n",
       "      <td>RENT</td>\n",
       "      <td>123.0</td>\n",
       "      <td>PERSONAL</td>\n",
       "      <td>D</td>\n",
       "      <td>35000</td>\n",
       "      <td>16.02</td>\n",
       "      <td>1</td>\n",
       "      <td>0.59</td>\n",
       "      <td>Y</td>\n",
       "      <td>3</td>\n",
       "    </tr>\n",
       "    <tr>\n",
       "      <th>1</th>\n",
       "      <td>21</td>\n",
       "      <td>9600</td>\n",
       "      <td>OWN</td>\n",
       "      <td>5.0</td>\n",
       "      <td>EDUCATION</td>\n",
       "      <td>B</td>\n",
       "      <td>1000</td>\n",
       "      <td>11.14</td>\n",
       "      <td>0</td>\n",
       "      <td>0.10</td>\n",
       "      <td>N</td>\n",
       "      <td>2</td>\n",
       "    </tr>\n",
       "    <tr>\n",
       "      <th>2</th>\n",
       "      <td>25</td>\n",
       "      <td>9600</td>\n",
       "      <td>MORTGAGE</td>\n",
       "      <td>1.0</td>\n",
       "      <td>MEDICAL</td>\n",
       "      <td>C</td>\n",
       "      <td>5500</td>\n",
       "      <td>12.87</td>\n",
       "      <td>1</td>\n",
       "      <td>0.57</td>\n",
       "      <td>N</td>\n",
       "      <td>3</td>\n",
       "    </tr>\n",
       "    <tr>\n",
       "      <th>3</th>\n",
       "      <td>23</td>\n",
       "      <td>65500</td>\n",
       "      <td>RENT</td>\n",
       "      <td>4.0</td>\n",
       "      <td>MEDICAL</td>\n",
       "      <td>C</td>\n",
       "      <td>35000</td>\n",
       "      <td>15.23</td>\n",
       "      <td>1</td>\n",
       "      <td>0.53</td>\n",
       "      <td>N</td>\n",
       "      <td>2</td>\n",
       "    </tr>\n",
       "    <tr>\n",
       "      <th>4</th>\n",
       "      <td>24</td>\n",
       "      <td>54400</td>\n",
       "      <td>RENT</td>\n",
       "      <td>8.0</td>\n",
       "      <td>MEDICAL</td>\n",
       "      <td>C</td>\n",
       "      <td>35000</td>\n",
       "      <td>14.27</td>\n",
       "      <td>1</td>\n",
       "      <td>0.55</td>\n",
       "      <td>Y</td>\n",
       "      <td>4</td>\n",
       "    </tr>\n",
       "  </tbody>\n",
       "</table>\n",
       "</div>"
      ],
      "text/plain": [
       "   person_age  person_income person_home_ownership  person_emp_length  \\\n",
       "0          22          59000                  RENT              123.0   \n",
       "1          21           9600                   OWN                5.0   \n",
       "2          25           9600              MORTGAGE                1.0   \n",
       "3          23          65500                  RENT                4.0   \n",
       "4          24          54400                  RENT                8.0   \n",
       "\n",
       "  loan_intent loan_grade  loan_amnt  loan_int_rate  loan_status  \\\n",
       "0    PERSONAL          D      35000          16.02            1   \n",
       "1   EDUCATION          B       1000          11.14            0   \n",
       "2     MEDICAL          C       5500          12.87            1   \n",
       "3     MEDICAL          C      35000          15.23            1   \n",
       "4     MEDICAL          C      35000          14.27            1   \n",
       "\n",
       "   loan_percent_income cb_person_default_on_file  cb_person_cred_hist_length  \n",
       "0                 0.59                         Y                           3  \n",
       "1                 0.10                         N                           2  \n",
       "2                 0.57                         N                           3  \n",
       "3                 0.53                         N                           2  \n",
       "4                 0.55                         Y                           4  "
      ]
     },
     "execution_count": 5,
     "metadata": {},
     "output_type": "execute_result"
    }
   ],
   "source": [
    "df.head()"
   ]
  },
  {
   "cell_type": "code",
   "execution_count": 6,
   "id": "0a664fe4",
   "metadata": {
    "execution": {
     "iopub.execute_input": "2024-09-12T20:57:03.701603Z",
     "iopub.status.busy": "2024-09-12T20:57:03.701109Z",
     "iopub.status.idle": "2024-09-12T20:57:03.749154Z",
     "shell.execute_reply": "2024-09-12T20:57:03.747844Z"
    },
    "papermill": {
     "duration": 0.071709,
     "end_time": "2024-09-12T20:57:03.751926",
     "exception": false,
     "start_time": "2024-09-12T20:57:03.680217",
     "status": "completed"
    },
    "tags": []
   },
   "outputs": [
    {
     "data": {
      "text/html": [
       "<div>\n",
       "<style scoped>\n",
       "    .dataframe tbody tr th:only-of-type {\n",
       "        vertical-align: middle;\n",
       "    }\n",
       "\n",
       "    .dataframe tbody tr th {\n",
       "        vertical-align: top;\n",
       "    }\n",
       "\n",
       "    .dataframe thead th {\n",
       "        text-align: right;\n",
       "    }\n",
       "</style>\n",
       "<table border=\"1\" class=\"dataframe\">\n",
       "  <thead>\n",
       "    <tr style=\"text-align: right;\">\n",
       "      <th></th>\n",
       "      <th>person_age</th>\n",
       "      <th>person_income</th>\n",
       "      <th>person_emp_length</th>\n",
       "      <th>loan_amnt</th>\n",
       "      <th>loan_int_rate</th>\n",
       "      <th>loan_status</th>\n",
       "      <th>loan_percent_income</th>\n",
       "      <th>cb_person_cred_hist_length</th>\n",
       "    </tr>\n",
       "  </thead>\n",
       "  <tbody>\n",
       "    <tr>\n",
       "      <th>count</th>\n",
       "      <td>32581.000000</td>\n",
       "      <td>3.258100e+04</td>\n",
       "      <td>31686.000000</td>\n",
       "      <td>32581.000000</td>\n",
       "      <td>29465.000000</td>\n",
       "      <td>32581.000000</td>\n",
       "      <td>32581.000000</td>\n",
       "      <td>32581.000000</td>\n",
       "    </tr>\n",
       "    <tr>\n",
       "      <th>mean</th>\n",
       "      <td>27.734600</td>\n",
       "      <td>6.607485e+04</td>\n",
       "      <td>4.789686</td>\n",
       "      <td>9589.371106</td>\n",
       "      <td>11.011695</td>\n",
       "      <td>0.218164</td>\n",
       "      <td>0.170203</td>\n",
       "      <td>5.804211</td>\n",
       "    </tr>\n",
       "    <tr>\n",
       "      <th>std</th>\n",
       "      <td>6.348078</td>\n",
       "      <td>6.198312e+04</td>\n",
       "      <td>4.142630</td>\n",
       "      <td>6322.086646</td>\n",
       "      <td>3.240459</td>\n",
       "      <td>0.413006</td>\n",
       "      <td>0.106782</td>\n",
       "      <td>4.055001</td>\n",
       "    </tr>\n",
       "    <tr>\n",
       "      <th>min</th>\n",
       "      <td>20.000000</td>\n",
       "      <td>4.000000e+03</td>\n",
       "      <td>0.000000</td>\n",
       "      <td>500.000000</td>\n",
       "      <td>5.420000</td>\n",
       "      <td>0.000000</td>\n",
       "      <td>0.000000</td>\n",
       "      <td>2.000000</td>\n",
       "    </tr>\n",
       "    <tr>\n",
       "      <th>25%</th>\n",
       "      <td>23.000000</td>\n",
       "      <td>3.850000e+04</td>\n",
       "      <td>2.000000</td>\n",
       "      <td>5000.000000</td>\n",
       "      <td>7.900000</td>\n",
       "      <td>0.000000</td>\n",
       "      <td>0.090000</td>\n",
       "      <td>3.000000</td>\n",
       "    </tr>\n",
       "    <tr>\n",
       "      <th>50%</th>\n",
       "      <td>26.000000</td>\n",
       "      <td>5.500000e+04</td>\n",
       "      <td>4.000000</td>\n",
       "      <td>8000.000000</td>\n",
       "      <td>10.990000</td>\n",
       "      <td>0.000000</td>\n",
       "      <td>0.150000</td>\n",
       "      <td>4.000000</td>\n",
       "    </tr>\n",
       "    <tr>\n",
       "      <th>75%</th>\n",
       "      <td>30.000000</td>\n",
       "      <td>7.920000e+04</td>\n",
       "      <td>7.000000</td>\n",
       "      <td>12200.000000</td>\n",
       "      <td>13.470000</td>\n",
       "      <td>0.000000</td>\n",
       "      <td>0.230000</td>\n",
       "      <td>8.000000</td>\n",
       "    </tr>\n",
       "    <tr>\n",
       "      <th>max</th>\n",
       "      <td>144.000000</td>\n",
       "      <td>6.000000e+06</td>\n",
       "      <td>123.000000</td>\n",
       "      <td>35000.000000</td>\n",
       "      <td>23.220000</td>\n",
       "      <td>1.000000</td>\n",
       "      <td>0.830000</td>\n",
       "      <td>30.000000</td>\n",
       "    </tr>\n",
       "  </tbody>\n",
       "</table>\n",
       "</div>"
      ],
      "text/plain": [
       "         person_age  person_income  person_emp_length     loan_amnt  \\\n",
       "count  32581.000000   3.258100e+04       31686.000000  32581.000000   \n",
       "mean      27.734600   6.607485e+04           4.789686   9589.371106   \n",
       "std        6.348078   6.198312e+04           4.142630   6322.086646   \n",
       "min       20.000000   4.000000e+03           0.000000    500.000000   \n",
       "25%       23.000000   3.850000e+04           2.000000   5000.000000   \n",
       "50%       26.000000   5.500000e+04           4.000000   8000.000000   \n",
       "75%       30.000000   7.920000e+04           7.000000  12200.000000   \n",
       "max      144.000000   6.000000e+06         123.000000  35000.000000   \n",
       "\n",
       "       loan_int_rate   loan_status  loan_percent_income  \\\n",
       "count   29465.000000  32581.000000         32581.000000   \n",
       "mean       11.011695      0.218164             0.170203   \n",
       "std         3.240459      0.413006             0.106782   \n",
       "min         5.420000      0.000000             0.000000   \n",
       "25%         7.900000      0.000000             0.090000   \n",
       "50%        10.990000      0.000000             0.150000   \n",
       "75%        13.470000      0.000000             0.230000   \n",
       "max        23.220000      1.000000             0.830000   \n",
       "\n",
       "       cb_person_cred_hist_length  \n",
       "count                32581.000000  \n",
       "mean                     5.804211  \n",
       "std                      4.055001  \n",
       "min                      2.000000  \n",
       "25%                      3.000000  \n",
       "50%                      4.000000  \n",
       "75%                      8.000000  \n",
       "max                     30.000000  "
      ]
     },
     "execution_count": 6,
     "metadata": {},
     "output_type": "execute_result"
    }
   ],
   "source": [
    "df.describe()"
   ]
  },
  {
   "cell_type": "code",
   "execution_count": 7,
   "id": "69e52785",
   "metadata": {
    "execution": {
     "iopub.execute_input": "2024-09-12T20:57:03.793170Z",
     "iopub.status.busy": "2024-09-12T20:57:03.792672Z",
     "iopub.status.idle": "2024-09-12T20:57:03.831430Z",
     "shell.execute_reply": "2024-09-12T20:57:03.829844Z"
    },
    "papermill": {
     "duration": 0.062877,
     "end_time": "2024-09-12T20:57:03.834629",
     "exception": false,
     "start_time": "2024-09-12T20:57:03.771752",
     "status": "completed"
    },
    "tags": []
   },
   "outputs": [
    {
     "name": "stdout",
     "output_type": "stream",
     "text": [
      "<class 'pandas.core.frame.DataFrame'>\n",
      "RangeIndex: 32581 entries, 0 to 32580\n",
      "Data columns (total 12 columns):\n",
      " #   Column                      Non-Null Count  Dtype  \n",
      "---  ------                      --------------  -----  \n",
      " 0   person_age                  32581 non-null  int64  \n",
      " 1   person_income               32581 non-null  int64  \n",
      " 2   person_home_ownership       32581 non-null  object \n",
      " 3   person_emp_length           31686 non-null  float64\n",
      " 4   loan_intent                 32581 non-null  object \n",
      " 5   loan_grade                  32581 non-null  object \n",
      " 6   loan_amnt                   32581 non-null  int64  \n",
      " 7   loan_int_rate               29465 non-null  float64\n",
      " 8   loan_status                 32581 non-null  int64  \n",
      " 9   loan_percent_income         32581 non-null  float64\n",
      " 10  cb_person_default_on_file   32581 non-null  object \n",
      " 11  cb_person_cred_hist_length  32581 non-null  int64  \n",
      "dtypes: float64(3), int64(5), object(4)\n",
      "memory usage: 3.0+ MB\n"
     ]
    }
   ],
   "source": [
    "df.info()"
   ]
  },
  {
   "cell_type": "code",
   "execution_count": 8,
   "id": "9b01f61a",
   "metadata": {
    "execution": {
     "iopub.execute_input": "2024-09-12T20:57:03.876897Z",
     "iopub.status.busy": "2024-09-12T20:57:03.876423Z",
     "iopub.status.idle": "2024-09-12T20:57:03.884583Z",
     "shell.execute_reply": "2024-09-12T20:57:03.883237Z"
    },
    "papermill": {
     "duration": 0.032327,
     "end_time": "2024-09-12T20:57:03.887377",
     "exception": false,
     "start_time": "2024-09-12T20:57:03.855050",
     "status": "completed"
    },
    "tags": []
   },
   "outputs": [
    {
     "data": {
      "text/plain": [
       "(32581, 12)"
      ]
     },
     "execution_count": 8,
     "metadata": {},
     "output_type": "execute_result"
    }
   ],
   "source": [
    "df.shape"
   ]
  },
  {
   "cell_type": "code",
   "execution_count": 9,
   "id": "1922de38",
   "metadata": {
    "execution": {
     "iopub.execute_input": "2024-09-12T20:57:03.928961Z",
     "iopub.status.busy": "2024-09-12T20:57:03.928560Z",
     "iopub.status.idle": "2024-09-12T20:57:03.956048Z",
     "shell.execute_reply": "2024-09-12T20:57:03.954827Z"
    },
    "papermill": {
     "duration": 0.051679,
     "end_time": "2024-09-12T20:57:03.958875",
     "exception": false,
     "start_time": "2024-09-12T20:57:03.907196",
     "status": "completed"
    },
    "tags": []
   },
   "outputs": [
    {
     "data": {
      "text/plain": [
       "165"
      ]
     },
     "execution_count": 9,
     "metadata": {},
     "output_type": "execute_result"
    }
   ],
   "source": [
    "df.duplicated().sum()"
   ]
  },
  {
   "cell_type": "code",
   "execution_count": 10,
   "id": "38ca99be",
   "metadata": {
    "execution": {
     "iopub.execute_input": "2024-09-12T20:57:04.000960Z",
     "iopub.status.busy": "2024-09-12T20:57:04.000503Z",
     "iopub.status.idle": "2024-09-12T20:57:04.027526Z",
     "shell.execute_reply": "2024-09-12T20:57:04.026325Z"
    },
    "papermill": {
     "duration": 0.052167,
     "end_time": "2024-09-12T20:57:04.030924",
     "exception": false,
     "start_time": "2024-09-12T20:57:03.978757",
     "status": "completed"
    },
    "tags": []
   },
   "outputs": [],
   "source": [
    "df.drop_duplicates(inplace=True)"
   ]
  },
  {
   "cell_type": "markdown",
   "id": "c3437371",
   "metadata": {
    "papermill": {
     "duration": 0.019917,
     "end_time": "2024-09-12T20:57:04.071559",
     "exception": false,
     "start_time": "2024-09-12T20:57:04.051642",
     "status": "completed"
    },
    "tags": []
   },
   "source": [
    "Checking for Nulls"
   ]
  },
  {
   "cell_type": "code",
   "execution_count": 11,
   "id": "71cfcf06",
   "metadata": {
    "execution": {
     "iopub.execute_input": "2024-09-12T20:57:04.114592Z",
     "iopub.status.busy": "2024-09-12T20:57:04.114135Z",
     "iopub.status.idle": "2024-09-12T20:57:04.140159Z",
     "shell.execute_reply": "2024-09-12T20:57:04.138692Z"
    },
    "papermill": {
     "duration": 0.051377,
     "end_time": "2024-09-12T20:57:04.143061",
     "exception": false,
     "start_time": "2024-09-12T20:57:04.091684",
     "status": "completed"
    },
    "tags": []
   },
   "outputs": [
    {
     "data": {
      "text/plain": [
       "person_age                       0\n",
       "person_income                    0\n",
       "person_home_ownership            0\n",
       "person_emp_length              887\n",
       "loan_intent                      0\n",
       "loan_grade                       0\n",
       "loan_amnt                        0\n",
       "loan_int_rate                 3095\n",
       "loan_status                      0\n",
       "loan_percent_income              0\n",
       "cb_person_default_on_file        0\n",
       "cb_person_cred_hist_length       0\n",
       "dtype: int64"
      ]
     },
     "execution_count": 11,
     "metadata": {},
     "output_type": "execute_result"
    }
   ],
   "source": [
    "df.isnull().sum()"
   ]
  },
  {
   "cell_type": "markdown",
   "id": "c2d4ad43",
   "metadata": {
    "papermill": {
     "duration": 0.020097,
     "end_time": "2024-09-12T20:57:04.183514",
     "exception": false,
     "start_time": "2024-09-12T20:57:04.163417",
     "status": "completed"
    },
    "tags": []
   },
   "source": [
    "We have 32000 rows of data in those 887 of them do no have emp_length.As this is less than 3% of the actual volumne,I will drop these rows****"
   ]
  },
  {
   "cell_type": "code",
   "execution_count": 12,
   "id": "fe341186",
   "metadata": {
    "execution": {
     "iopub.execute_input": "2024-09-12T20:57:04.225738Z",
     "iopub.status.busy": "2024-09-12T20:57:04.225267Z",
     "iopub.status.idle": "2024-09-12T20:57:04.236488Z",
     "shell.execute_reply": "2024-09-12T20:57:04.235345Z"
    },
    "papermill": {
     "duration": 0.035694,
     "end_time": "2024-09-12T20:57:04.239288",
     "exception": false,
     "start_time": "2024-09-12T20:57:04.203594",
     "status": "completed"
    },
    "tags": []
   },
   "outputs": [],
   "source": [
    "df.dropna(subset=['person_emp_length'],inplace=True)"
   ]
  },
  {
   "cell_type": "code",
   "execution_count": 13,
   "id": "e6ef8450",
   "metadata": {
    "execution": {
     "iopub.execute_input": "2024-09-12T20:57:04.282704Z",
     "iopub.status.busy": "2024-09-12T20:57:04.282250Z",
     "iopub.status.idle": "2024-09-12T20:57:04.289940Z",
     "shell.execute_reply": "2024-09-12T20:57:04.288768Z"
    },
    "papermill": {
     "duration": 0.031905,
     "end_time": "2024-09-12T20:57:04.292463",
     "exception": false,
     "start_time": "2024-09-12T20:57:04.260558",
     "status": "completed"
    },
    "tags": []
   },
   "outputs": [
    {
     "data": {
      "text/plain": [
       "(31529, 12)"
      ]
     },
     "execution_count": 13,
     "metadata": {},
     "output_type": "execute_result"
    }
   ],
   "source": [
    "df.shape"
   ]
  },
  {
   "cell_type": "code",
   "execution_count": 14,
   "id": "5c15a033",
   "metadata": {
    "execution": {
     "iopub.execute_input": "2024-09-12T20:57:04.335273Z",
     "iopub.status.busy": "2024-09-12T20:57:04.334777Z",
     "iopub.status.idle": "2024-09-12T20:57:04.340961Z",
     "shell.execute_reply": "2024-09-12T20:57:04.339545Z"
    },
    "papermill": {
     "duration": 0.030703,
     "end_time": "2024-09-12T20:57:04.343457",
     "exception": false,
     "start_time": "2024-09-12T20:57:04.312754",
     "status": "completed"
    },
    "tags": []
   },
   "outputs": [],
   "source": [
    "df.reset_index(drop=True,inplace=True)"
   ]
  },
  {
   "cell_type": "code",
   "execution_count": 15,
   "id": "80459411",
   "metadata": {
    "execution": {
     "iopub.execute_input": "2024-09-12T20:57:04.428568Z",
     "iopub.status.busy": "2024-09-12T20:57:04.428070Z",
     "iopub.status.idle": "2024-09-12T20:57:08.618387Z",
     "shell.execute_reply": "2024-09-12T20:57:08.617019Z"
    },
    "papermill": {
     "duration": 4.215352,
     "end_time": "2024-09-12T20:57:08.621448",
     "exception": false,
     "start_time": "2024-09-12T20:57:04.406096",
     "status": "completed"
    },
    "tags": []
   },
   "outputs": [
    {
     "data": {
      "text/html": [
       "<div>\n",
       "<style scoped>\n",
       "    .dataframe tbody tr th:only-of-type {\n",
       "        vertical-align: middle;\n",
       "    }\n",
       "\n",
       "    .dataframe tbody tr th {\n",
       "        vertical-align: top;\n",
       "    }\n",
       "\n",
       "    .dataframe thead th {\n",
       "        text-align: right;\n",
       "    }\n",
       "</style>\n",
       "<table border=\"1\" class=\"dataframe\">\n",
       "  <thead>\n",
       "    <tr style=\"text-align: right;\">\n",
       "      <th></th>\n",
       "      <th>person_age</th>\n",
       "      <th>person_income</th>\n",
       "      <th>person_home_ownership</th>\n",
       "      <th>person_emp_length</th>\n",
       "      <th>loan_intent</th>\n",
       "      <th>loan_grade</th>\n",
       "      <th>loan_amnt</th>\n",
       "      <th>loan_status</th>\n",
       "      <th>loan_percent_income</th>\n",
       "      <th>cb_person_default_on_file</th>\n",
       "      <th>cb_person_cred_hist_length</th>\n",
       "      <th>loan_int_rate1</th>\n",
       "    </tr>\n",
       "  </thead>\n",
       "  <tbody>\n",
       "    <tr>\n",
       "      <th>0</th>\n",
       "      <td>22</td>\n",
       "      <td>59000</td>\n",
       "      <td>RENT</td>\n",
       "      <td>123.0</td>\n",
       "      <td>PERSONAL</td>\n",
       "      <td>D</td>\n",
       "      <td>35000</td>\n",
       "      <td>1</td>\n",
       "      <td>0.59</td>\n",
       "      <td>Y</td>\n",
       "      <td>3</td>\n",
       "      <td>16.02</td>\n",
       "    </tr>\n",
       "    <tr>\n",
       "      <th>1</th>\n",
       "      <td>21</td>\n",
       "      <td>9600</td>\n",
       "      <td>OWN</td>\n",
       "      <td>5.0</td>\n",
       "      <td>EDUCATION</td>\n",
       "      <td>B</td>\n",
       "      <td>1000</td>\n",
       "      <td>0</td>\n",
       "      <td>0.10</td>\n",
       "      <td>N</td>\n",
       "      <td>2</td>\n",
       "      <td>11.14</td>\n",
       "    </tr>\n",
       "    <tr>\n",
       "      <th>2</th>\n",
       "      <td>25</td>\n",
       "      <td>9600</td>\n",
       "      <td>MORTGAGE</td>\n",
       "      <td>1.0</td>\n",
       "      <td>MEDICAL</td>\n",
       "      <td>C</td>\n",
       "      <td>5500</td>\n",
       "      <td>1</td>\n",
       "      <td>0.57</td>\n",
       "      <td>N</td>\n",
       "      <td>3</td>\n",
       "      <td>12.87</td>\n",
       "    </tr>\n",
       "    <tr>\n",
       "      <th>3</th>\n",
       "      <td>23</td>\n",
       "      <td>65500</td>\n",
       "      <td>RENT</td>\n",
       "      <td>4.0</td>\n",
       "      <td>MEDICAL</td>\n",
       "      <td>C</td>\n",
       "      <td>35000</td>\n",
       "      <td>1</td>\n",
       "      <td>0.53</td>\n",
       "      <td>N</td>\n",
       "      <td>2</td>\n",
       "      <td>15.23</td>\n",
       "    </tr>\n",
       "    <tr>\n",
       "      <th>4</th>\n",
       "      <td>24</td>\n",
       "      <td>54400</td>\n",
       "      <td>RENT</td>\n",
       "      <td>8.0</td>\n",
       "      <td>MEDICAL</td>\n",
       "      <td>C</td>\n",
       "      <td>35000</td>\n",
       "      <td>1</td>\n",
       "      <td>0.55</td>\n",
       "      <td>Y</td>\n",
       "      <td>4</td>\n",
       "      <td>14.27</td>\n",
       "    </tr>\n",
       "    <tr>\n",
       "      <th>...</th>\n",
       "      <td>...</td>\n",
       "      <td>...</td>\n",
       "      <td>...</td>\n",
       "      <td>...</td>\n",
       "      <td>...</td>\n",
       "      <td>...</td>\n",
       "      <td>...</td>\n",
       "      <td>...</td>\n",
       "      <td>...</td>\n",
       "      <td>...</td>\n",
       "      <td>...</td>\n",
       "      <td>...</td>\n",
       "    </tr>\n",
       "    <tr>\n",
       "      <th>31524</th>\n",
       "      <td>57</td>\n",
       "      <td>53000</td>\n",
       "      <td>MORTGAGE</td>\n",
       "      <td>1.0</td>\n",
       "      <td>PERSONAL</td>\n",
       "      <td>C</td>\n",
       "      <td>5800</td>\n",
       "      <td>0</td>\n",
       "      <td>0.11</td>\n",
       "      <td>N</td>\n",
       "      <td>30</td>\n",
       "      <td>13.16</td>\n",
       "    </tr>\n",
       "    <tr>\n",
       "      <th>31525</th>\n",
       "      <td>54</td>\n",
       "      <td>120000</td>\n",
       "      <td>MORTGAGE</td>\n",
       "      <td>4.0</td>\n",
       "      <td>PERSONAL</td>\n",
       "      <td>A</td>\n",
       "      <td>17625</td>\n",
       "      <td>0</td>\n",
       "      <td>0.15</td>\n",
       "      <td>N</td>\n",
       "      <td>19</td>\n",
       "      <td>7.49</td>\n",
       "    </tr>\n",
       "    <tr>\n",
       "      <th>31526</th>\n",
       "      <td>65</td>\n",
       "      <td>76000</td>\n",
       "      <td>RENT</td>\n",
       "      <td>3.0</td>\n",
       "      <td>HOMEIMPROVEMENT</td>\n",
       "      <td>B</td>\n",
       "      <td>35000</td>\n",
       "      <td>1</td>\n",
       "      <td>0.46</td>\n",
       "      <td>N</td>\n",
       "      <td>28</td>\n",
       "      <td>10.99</td>\n",
       "    </tr>\n",
       "    <tr>\n",
       "      <th>31527</th>\n",
       "      <td>56</td>\n",
       "      <td>150000</td>\n",
       "      <td>MORTGAGE</td>\n",
       "      <td>5.0</td>\n",
       "      <td>PERSONAL</td>\n",
       "      <td>B</td>\n",
       "      <td>15000</td>\n",
       "      <td>0</td>\n",
       "      <td>0.10</td>\n",
       "      <td>N</td>\n",
       "      <td>26</td>\n",
       "      <td>11.48</td>\n",
       "    </tr>\n",
       "    <tr>\n",
       "      <th>31528</th>\n",
       "      <td>66</td>\n",
       "      <td>42000</td>\n",
       "      <td>RENT</td>\n",
       "      <td>2.0</td>\n",
       "      <td>MEDICAL</td>\n",
       "      <td>B</td>\n",
       "      <td>6475</td>\n",
       "      <td>0</td>\n",
       "      <td>0.15</td>\n",
       "      <td>N</td>\n",
       "      <td>30</td>\n",
       "      <td>9.99</td>\n",
       "    </tr>\n",
       "  </tbody>\n",
       "</table>\n",
       "<p>31529 rows × 12 columns</p>\n",
       "</div>"
      ],
      "text/plain": [
       "       person_age  person_income person_home_ownership  person_emp_length  \\\n",
       "0              22          59000                  RENT              123.0   \n",
       "1              21           9600                   OWN                5.0   \n",
       "2              25           9600              MORTGAGE                1.0   \n",
       "3              23          65500                  RENT                4.0   \n",
       "4              24          54400                  RENT                8.0   \n",
       "...           ...            ...                   ...                ...   \n",
       "31524          57          53000              MORTGAGE                1.0   \n",
       "31525          54         120000              MORTGAGE                4.0   \n",
       "31526          65          76000                  RENT                3.0   \n",
       "31527          56         150000              MORTGAGE                5.0   \n",
       "31528          66          42000                  RENT                2.0   \n",
       "\n",
       "           loan_intent loan_grade  loan_amnt  loan_status  \\\n",
       "0             PERSONAL          D      35000            1   \n",
       "1            EDUCATION          B       1000            0   \n",
       "2              MEDICAL          C       5500            1   \n",
       "3              MEDICAL          C      35000            1   \n",
       "4              MEDICAL          C      35000            1   \n",
       "...                ...        ...        ...          ...   \n",
       "31524         PERSONAL          C       5800            0   \n",
       "31525         PERSONAL          A      17625            0   \n",
       "31526  HOMEIMPROVEMENT          B      35000            1   \n",
       "31527         PERSONAL          B      15000            0   \n",
       "31528          MEDICAL          B       6475            0   \n",
       "\n",
       "       loan_percent_income cb_person_default_on_file  \\\n",
       "0                     0.59                         Y   \n",
       "1                     0.10                         N   \n",
       "2                     0.57                         N   \n",
       "3                     0.53                         N   \n",
       "4                     0.55                         Y   \n",
       "...                    ...                       ...   \n",
       "31524                 0.11                         N   \n",
       "31525                 0.15                         N   \n",
       "31526                 0.46                         N   \n",
       "31527                 0.10                         N   \n",
       "31528                 0.15                         N   \n",
       "\n",
       "       cb_person_cred_hist_length  loan_int_rate1  \n",
       "0                               3           16.02  \n",
       "1                               2           11.14  \n",
       "2                               3           12.87  \n",
       "3                               2           15.23  \n",
       "4                               4           14.27  \n",
       "...                           ...             ...  \n",
       "31524                          30           13.16  \n",
       "31525                          19            7.49  \n",
       "31526                          28           10.99  \n",
       "31527                          26           11.48  \n",
       "31528                          30            9.99  \n",
       "\n",
       "[31529 rows x 12 columns]"
      ]
     },
     "execution_count": 15,
     "metadata": {},
     "output_type": "execute_result"
    }
   ],
   "source": [
    "imputer=KNNImputer(n_neighbors=4)\n",
    "df_impute = imputer.fit_transform(df[['loan_int_rate']])\n",
    "df_impute=pd.DataFrame(df_impute)\n",
    "df_impute.rename(columns={0:'loan_int_rate1'},inplace=True)\n",
    "df=pd.concat([df,df_impute],axis=1)\n",
    "df.drop(['loan_int_rate'],inplace=True,axis=1)\n",
    "df"
   ]
  },
  {
   "cell_type": "code",
   "execution_count": 16,
   "id": "323db745",
   "metadata": {
    "execution": {
     "iopub.execute_input": "2024-09-12T20:57:08.667081Z",
     "iopub.status.busy": "2024-09-12T20:57:08.666620Z",
     "iopub.status.idle": "2024-09-12T20:57:08.691813Z",
     "shell.execute_reply": "2024-09-12T20:57:08.690481Z"
    },
    "papermill": {
     "duration": 0.051493,
     "end_time": "2024-09-12T20:57:08.694844",
     "exception": false,
     "start_time": "2024-09-12T20:57:08.643351",
     "status": "completed"
    },
    "tags": []
   },
   "outputs": [
    {
     "data": {
      "text/plain": [
       "person_age                    0\n",
       "person_income                 0\n",
       "person_home_ownership         0\n",
       "person_emp_length             0\n",
       "loan_intent                   0\n",
       "loan_grade                    0\n",
       "loan_amnt                     0\n",
       "loan_status                   0\n",
       "loan_percent_income           0\n",
       "cb_person_default_on_file     0\n",
       "cb_person_cred_hist_length    0\n",
       "loan_int_rate1                0\n",
       "dtype: int64"
      ]
     },
     "execution_count": 16,
     "metadata": {},
     "output_type": "execute_result"
    }
   ],
   "source": [
    "df.isnull().sum()"
   ]
  },
  {
   "cell_type": "markdown",
   "id": "b1c523c1",
   "metadata": {
    "papermill": {
     "duration": 0.020546,
     "end_time": "2024-09-12T20:57:08.736672",
     "exception": false,
     "start_time": "2024-09-12T20:57:08.716126",
     "status": "completed"
    },
    "tags": []
   },
   "source": [
    "Nulls Imputed"
   ]
  },
  {
   "cell_type": "markdown",
   "id": "7ab27e33",
   "metadata": {
    "papermill": {
     "duration": 0.020457,
     "end_time": "2024-09-12T20:57:08.819201",
     "exception": false,
     "start_time": "2024-09-12T20:57:08.798744",
     "status": "completed"
    },
    "tags": []
   },
   "source": [
    "# Identify Categorical Features"
   ]
  },
  {
   "cell_type": "code",
   "execution_count": 17,
   "id": "2b53fc10",
   "metadata": {
    "execution": {
     "iopub.execute_input": "2024-09-12T20:57:08.864553Z",
     "iopub.status.busy": "2024-09-12T20:57:08.864086Z",
     "iopub.status.idle": "2024-09-12T20:57:08.878639Z",
     "shell.execute_reply": "2024-09-12T20:57:08.877417Z"
    },
    "papermill": {
     "duration": 0.039775,
     "end_time": "2024-09-12T20:57:08.881283",
     "exception": false,
     "start_time": "2024-09-12T20:57:08.841508",
     "status": "completed"
    },
    "tags": []
   },
   "outputs": [
    {
     "data": {
      "text/plain": [
       "person_home_ownership\n",
       "RENT        16011\n",
       "MORTGAGE    13021\n",
       "OWN          2391\n",
       "OTHER         106\n",
       "Name: count, dtype: int64"
      ]
     },
     "execution_count": 17,
     "metadata": {},
     "output_type": "execute_result"
    }
   ],
   "source": [
    "df['person_home_ownership'].value_counts()"
   ]
  },
  {
   "cell_type": "code",
   "execution_count": 18,
   "id": "d59c3d61",
   "metadata": {
    "execution": {
     "iopub.execute_input": "2024-09-12T20:57:08.926490Z",
     "iopub.status.busy": "2024-09-12T20:57:08.926048Z",
     "iopub.status.idle": "2024-09-12T20:57:08.940470Z",
     "shell.execute_reply": "2024-09-12T20:57:08.939231Z"
    },
    "papermill": {
     "duration": 0.040398,
     "end_time": "2024-09-12T20:57:08.942837",
     "exception": false,
     "start_time": "2024-09-12T20:57:08.902439",
     "status": "completed"
    },
    "tags": []
   },
   "outputs": [
    {
     "data": {
      "text/plain": [
       "loan_intent\n",
       "EDUCATION            6248\n",
       "MEDICAL              5869\n",
       "VENTURE              5521\n",
       "PERSONAL             5348\n",
       "DEBTCONSOLIDATION    5044\n",
       "HOMEIMPROVEMENT      3499\n",
       "Name: count, dtype: int64"
      ]
     },
     "execution_count": 18,
     "metadata": {},
     "output_type": "execute_result"
    }
   ],
   "source": [
    "df['loan_intent'].value_counts()"
   ]
  },
  {
   "cell_type": "code",
   "execution_count": 19,
   "id": "606263d7",
   "metadata": {
    "execution": {
     "iopub.execute_input": "2024-09-12T20:57:08.987847Z",
     "iopub.status.busy": "2024-09-12T20:57:08.987305Z",
     "iopub.status.idle": "2024-09-12T20:57:09.002943Z",
     "shell.execute_reply": "2024-09-12T20:57:09.001634Z"
    },
    "papermill": {
     "duration": 0.041493,
     "end_time": "2024-09-12T20:57:09.005900",
     "exception": false,
     "start_time": "2024-09-12T20:57:08.964407",
     "status": "completed"
    },
    "tags": []
   },
   "outputs": [
    {
     "data": {
      "text/plain": [
       "loan_grade\n",
       "A    10301\n",
       "B    10124\n",
       "C     6303\n",
       "D     3550\n",
       "E      951\n",
       "F      236\n",
       "G       64\n",
       "Name: count, dtype: int64"
      ]
     },
     "execution_count": 19,
     "metadata": {},
     "output_type": "execute_result"
    }
   ],
   "source": [
    "df['loan_grade'].value_counts()"
   ]
  },
  {
   "cell_type": "markdown",
   "id": "da6a02a2",
   "metadata": {
    "papermill": {
     "duration": 0.021899,
     "end_time": "2024-09-12T20:57:09.050064",
     "exception": false,
     "start_time": "2024-09-12T20:57:09.028165",
     "status": "completed"
    },
    "tags": []
   },
   "source": [
    "# Visualization"
   ]
  },
  {
   "cell_type": "code",
   "execution_count": 20,
   "id": "c763307c",
   "metadata": {
    "execution": {
     "iopub.execute_input": "2024-09-12T20:57:09.097386Z",
     "iopub.status.busy": "2024-09-12T20:57:09.096904Z",
     "iopub.status.idle": "2024-09-12T20:57:09.997013Z",
     "shell.execute_reply": "2024-09-12T20:57:09.995696Z"
    },
    "papermill": {
     "duration": 0.926438,
     "end_time": "2024-09-12T20:57:09.999668",
     "exception": false,
     "start_time": "2024-09-12T20:57:09.073230",
     "status": "completed"
    },
    "tags": []
   },
   "outputs": [
    {
     "data": {
      "image/png": "[encoded data removed]",
      "text/plain": [
       "<Figure size 1000x800 with 1 Axes>"
      ]
     },
     "metadata": {},
     "output_type": "display_data"
    },
    {
     "data": {
      "image/png": "[encoded data removed]",
      "text/plain": [
       "<Figure size 640x480 with 1 Axes>"
      ]
     },
     "metadata": {},
     "output_type": "display_data"
    },
    {
     "data": {
      "image/png": "[encoded data removed]",
      "text/plain": [
       "<Figure size 640x480 with 1 Axes>"
      ]
     },
     "metadata": {},
     "output_type": "display_data"
    },
    {
     "data": {
      "image/png": "[encoded data removed]",
      "text/plain": [
       "<Figure size 640x480 with 1 Axes>"
      ]
     },
     "metadata": {},
     "output_type": "display_data"
    }
   ],
   "source": [
    "plt.figure(figsize=(10, 8))\n",
    "for col in [\"person_home_ownership\", \"loan_intent\", \"loan_grade\", \"cb_person_default_on_file\"]:\n",
    "    sns.countplot(data= df, x=col)\n",
    "    plt.xticks(rotation= 45)\n",
    "    plt.show()"
   ]
  },
  {
   "cell_type": "code",
   "execution_count": 21,
   "id": "d62b3d5a",
   "metadata": {
    "execution": {
     "iopub.execute_input": "2024-09-12T20:57:10.052448Z",
     "iopub.status.busy": "2024-09-12T20:57:10.051949Z",
     "iopub.status.idle": "2024-09-12T20:57:12.011585Z",
     "shell.execute_reply": "2024-09-12T20:57:12.009994Z"
    },
    "papermill": {
     "duration": 1.988597,
     "end_time": "2024-09-12T20:57:12.014385",
     "exception": false,
     "start_time": "2024-09-12T20:57:10.025788",
     "status": "completed"
    },
    "tags": []
   },
   "outputs": [
    {
     "data": {
      "image/png": "[encoded data removed]",
      "text/plain": [
       "<Figure size 1400x1000 with 9 Axes>"
      ]
     },
     "metadata": {},
     "output_type": "display_data"
    }
   ],
   "source": [
    "df.hist(bins=20, figsize=(14, 10))\n",
    "plt.show()"
   ]
  },
  {
   "cell_type": "markdown",
   "id": "21def740",
   "metadata": {
    "papermill": {
     "duration": 0.026036,
     "end_time": "2024-09-12T20:57:12.067054",
     "exception": false,
     "start_time": "2024-09-12T20:57:12.041018",
     "status": "completed"
    },
    "tags": []
   },
   "source": []
  },
  {
   "cell_type": "code",
   "execution_count": 22,
   "id": "aea603bd",
   "metadata": {
    "execution": {
     "iopub.execute_input": "2024-09-12T20:57:12.119486Z",
     "iopub.status.busy": "2024-09-12T20:57:12.118895Z",
     "iopub.status.idle": "2024-09-12T20:57:12.662710Z",
     "shell.execute_reply": "2024-09-12T20:57:12.661382Z"
    },
    "papermill": {
     "duration": 0.573995,
     "end_time": "2024-09-12T20:57:12.666005",
     "exception": false,
     "start_time": "2024-09-12T20:57:12.092010",
     "status": "completed"
    },
    "tags": []
   },
   "outputs": [
    {
     "data": {
      "image/png": "[encoded data removed]",
      "text/plain": [
       "<Figure size 1000x800 with 2 Axes>"
      ]
     },
     "metadata": {},
     "output_type": "display_data"
    }
   ],
   "source": [
    "plt.figure(figsize=(10, 8))\n",
    "sns.heatmap(df.select_dtypes('number').corr(), annot=True, cmap='Greens')\n",
    "plt.show()"
   ]
  },
  {
   "cell_type": "markdown",
   "id": "17184899",
   "metadata": {
    "papermill": {
     "duration": 0.026217,
     "end_time": "2024-09-12T20:57:12.720029",
     "exception": false,
     "start_time": "2024-09-12T20:57:12.693812",
     "status": "completed"
    },
    "tags": []
   },
   "source": [
    "# Handeling Outliers"
   ]
  },
  {
   "cell_type": "code",
   "execution_count": 23,
   "id": "acbee30e",
   "metadata": {
    "execution": {
     "iopub.execute_input": "2024-09-12T20:57:12.775197Z",
     "iopub.status.busy": "2024-09-12T20:57:12.773863Z",
     "iopub.status.idle": "2024-09-12T20:57:13.018014Z",
     "shell.execute_reply": "2024-09-12T20:57:13.016622Z"
    },
    "papermill": {
     "duration": 0.274539,
     "end_time": "2024-09-12T20:57:13.020769",
     "exception": false,
     "start_time": "2024-09-12T20:57:12.746230",
     "status": "completed"
    },
    "tags": []
   },
   "outputs": [
    {
     "data": {
      "text/plain": [
       "<Axes: >"
      ]
     },
     "execution_count": 23,
     "metadata": {},
     "output_type": "execute_result"
    },
    {
     "data": {
      "image/png": "[encoded data removed]",
      "text/plain": [
       "<Figure size 640x480 with 1 Axes>"
      ]
     },
     "metadata": {},
     "output_type": "display_data"
    }
   ],
   "source": [
    "sns.boxplot(df['person_age'])"
   ]
  },
  {
   "cell_type": "code",
   "execution_count": 24,
   "id": "e0abef9d",
   "metadata": {
    "execution": {
     "iopub.execute_input": "2024-09-12T20:57:13.077779Z",
     "iopub.status.busy": "2024-09-12T20:57:13.077299Z",
     "iopub.status.idle": "2024-09-12T20:57:13.086705Z",
     "shell.execute_reply": "2024-09-12T20:57:13.085538Z"
    },
    "papermill": {
     "duration": 0.040997,
     "end_time": "2024-09-12T20:57:13.089727",
     "exception": false,
     "start_time": "2024-09-12T20:57:13.048730",
     "status": "completed"
    },
    "tags": []
   },
   "outputs": [],
   "source": [
    "df = df[df[\"person_age\"] < 80]"
   ]
  },
  {
   "cell_type": "code",
   "execution_count": 25,
   "id": "ddb84aa4",
   "metadata": {
    "execution": {
     "iopub.execute_input": "2024-09-12T20:57:13.146059Z",
     "iopub.status.busy": "2024-09-12T20:57:13.145604Z",
     "iopub.status.idle": "2024-09-12T20:57:13.404255Z",
     "shell.execute_reply": "2024-09-12T20:57:13.403125Z"
    },
    "papermill": {
     "duration": 0.290052,
     "end_time": "2024-09-12T20:57:13.406902",
     "exception": false,
     "start_time": "2024-09-12T20:57:13.116850",
     "status": "completed"
    },
    "tags": []
   },
   "outputs": [
    {
     "data": {
      "text/plain": [
       "<Axes: >"
      ]
     },
     "execution_count": 25,
     "metadata": {},
     "output_type": "execute_result"
    },
    {
     "data": {
      "image/png": "[encoded data removed]",
      "text/plain": [
       "<Figure size 640x480 with 1 Axes>"
      ]
     },
     "metadata": {},
     "output_type": "display_data"
    }
   ],
   "source": [
    "sns.boxplot(df['person_income'])"
   ]
  },
  {
   "cell_type": "code",
   "execution_count": 26,
   "id": "18dc0fb3",
   "metadata": {
    "execution": {
     "iopub.execute_input": "2024-09-12T20:57:13.464752Z",
     "iopub.status.busy": "2024-09-12T20:57:13.464282Z",
     "iopub.status.idle": "2024-09-12T20:57:13.473339Z",
     "shell.execute_reply": "2024-09-12T20:57:13.472087Z"
    },
    "papermill": {
     "duration": 0.04096,
     "end_time": "2024-09-12T20:57:13.475858",
     "exception": false,
     "start_time": "2024-09-12T20:57:13.434898",
     "status": "completed"
    },
    "tags": []
   },
   "outputs": [
    {
     "data": {
      "text/plain": [
       "2039784"
      ]
     },
     "execution_count": 26,
     "metadata": {},
     "output_type": "execute_result"
    }
   ],
   "source": [
    "df['person_income'].max()"
   ]
  },
  {
   "cell_type": "code",
   "execution_count": 27,
   "id": "0ee85928",
   "metadata": {
    "execution": {
     "iopub.execute_input": "2024-09-12T20:57:13.534470Z",
     "iopub.status.busy": "2024-09-12T20:57:13.534013Z",
     "iopub.status.idle": "2024-09-12T20:57:13.544362Z",
     "shell.execute_reply": "2024-09-12T20:57:13.543231Z"
    },
    "papermill": {
     "duration": 0.043705,
     "end_time": "2024-09-12T20:57:13.547105",
     "exception": false,
     "start_time": "2024-09-12T20:57:13.503400",
     "status": "completed"
    },
    "tags": []
   },
   "outputs": [],
   "source": [
    "df = df[df['person_income'] < 1500000]"
   ]
  },
  {
   "cell_type": "code",
   "execution_count": 28,
   "id": "92d3e34f",
   "metadata": {
    "execution": {
     "iopub.execute_input": "2024-09-12T20:57:13.604772Z",
     "iopub.status.busy": "2024-09-12T20:57:13.604326Z",
     "iopub.status.idle": "2024-09-12T20:57:13.849396Z",
     "shell.execute_reply": "2024-09-12T20:57:13.847900Z"
    },
    "papermill": {
     "duration": 0.276924,
     "end_time": "2024-09-12T20:57:13.852254",
     "exception": false,
     "start_time": "2024-09-12T20:57:13.575330",
     "status": "completed"
    },
    "tags": []
   },
   "outputs": [
    {
     "data": {
      "text/plain": [
       "<Axes: >"
      ]
     },
     "execution_count": 28,
     "metadata": {},
     "output_type": "execute_result"
    },
    {
     "data": {
      "image/png": "[encoded data removed]",
      "text/plain": [
       "<Figure size 640x480 with 1 Axes>"
      ]
     },
     "metadata": {},
     "output_type": "display_data"
    }
   ],
   "source": [
    "sns.boxplot(df['loan_amnt'])"
   ]
  },
  {
   "cell_type": "code",
   "execution_count": 29,
   "id": "d8a261b7",
   "metadata": {
    "execution": {
     "iopub.execute_input": "2024-09-12T20:57:13.915799Z",
     "iopub.status.busy": "2024-09-12T20:57:13.915365Z",
     "iopub.status.idle": "2024-09-12T20:57:14.147584Z",
     "shell.execute_reply": "2024-09-12T20:57:14.146184Z"
    },
    "papermill": {
     "duration": 0.267077,
     "end_time": "2024-09-12T20:57:14.150261",
     "exception": false,
     "start_time": "2024-09-12T20:57:13.883184",
     "status": "completed"
    },
    "tags": []
   },
   "outputs": [
    {
     "data": {
      "text/plain": [
       "<Axes: >"
      ]
     },
     "execution_count": 29,
     "metadata": {},
     "output_type": "execute_result"
    },
    {
     "data": {
      "image/png": "[encoded data removed]",
      "text/plain": [
       "<Figure size 640x480 with 1 Axes>"
      ]
     },
     "metadata": {},
     "output_type": "display_data"
    }
   ],
   "source": [
    "sns.boxplot(df['person_emp_length'])"
   ]
  },
  {
   "cell_type": "code",
   "execution_count": 30,
   "id": "9dea1d64",
   "metadata": {
    "execution": {
     "iopub.execute_input": "2024-09-12T20:57:14.211128Z",
     "iopub.status.busy": "2024-09-12T20:57:14.210644Z",
     "iopub.status.idle": "2024-09-12T20:57:14.222477Z",
     "shell.execute_reply": "2024-09-12T20:57:14.221033Z"
    },
    "papermill": {
     "duration": 0.046122,
     "end_time": "2024-09-12T20:57:14.225528",
     "exception": false,
     "start_time": "2024-09-12T20:57:14.179406",
     "status": "completed"
    },
    "tags": []
   },
   "outputs": [],
   "source": [
    "df = df[df['person_emp_length'] <= 80]"
   ]
  },
  {
   "cell_type": "code",
   "execution_count": 31,
   "id": "c5a84a9e",
   "metadata": {
    "execution": {
     "iopub.execute_input": "2024-09-12T20:57:14.288117Z",
     "iopub.status.busy": "2024-09-12T20:57:14.287623Z",
     "iopub.status.idle": "2024-09-12T20:57:14.295288Z",
     "shell.execute_reply": "2024-09-12T20:57:14.294180Z"
    },
    "papermill": {
     "duration": 0.040692,
     "end_time": "2024-09-12T20:57:14.297829",
     "exception": false,
     "start_time": "2024-09-12T20:57:14.257137",
     "status": "completed"
    },
    "tags": []
   },
   "outputs": [
    {
     "data": {
      "text/plain": [
       "(31516, 12)"
      ]
     },
     "execution_count": 31,
     "metadata": {},
     "output_type": "execute_result"
    }
   ],
   "source": [
    "df.shape"
   ]
  },
  {
   "cell_type": "markdown",
   "id": "6c59b0d7",
   "metadata": {
    "papermill": {
     "duration": 0.028711,
     "end_time": "2024-09-12T20:57:14.470305",
     "exception": false,
     "start_time": "2024-09-12T20:57:14.441594",
     "status": "completed"
    },
    "tags": []
   },
   "source": [
    "# Encoding Categorical valaues"
   ]
  },
  {
   "cell_type": "code",
   "execution_count": 32,
   "id": "4b275ac9",
   "metadata": {
    "execution": {
     "iopub.execute_input": "2024-09-12T20:57:14.530924Z",
     "iopub.status.busy": "2024-09-12T20:57:14.530444Z",
     "iopub.status.idle": "2024-09-12T20:57:14.536248Z",
     "shell.execute_reply": "2024-09-12T20:57:14.535021Z"
    },
    "papermill": {
     "duration": 0.039863,
     "end_time": "2024-09-12T20:57:14.538801",
     "exception": false,
     "start_time": "2024-09-12T20:57:14.498938",
     "status": "completed"
    },
    "tags": []
   },
   "outputs": [],
   "source": [
    "dict={\n",
    "    'Y':1,\n",
    "    'N':0\n",
    "      }"
   ]
  },
  {
   "cell_type": "code",
   "execution_count": 33,
   "id": "0c06876d",
   "metadata": {
    "execution": {
     "iopub.execute_input": "2024-09-12T20:57:14.598932Z",
     "iopub.status.busy": "2024-09-12T20:57:14.598481Z",
     "iopub.status.idle": "2024-09-12T20:57:14.629215Z",
     "shell.execute_reply": "2024-09-12T20:57:14.628061Z"
    },
    "papermill": {
     "duration": 0.064429,
     "end_time": "2024-09-12T20:57:14.632062",
     "exception": false,
     "start_time": "2024-09-12T20:57:14.567633",
     "status": "completed"
    },
    "tags": []
   },
   "outputs": [],
   "source": [
    "df['cb_person_default_on_file'].replace(dict,inplace=True)"
   ]
  },
  {
   "cell_type": "code",
   "execution_count": 34,
   "id": "ba8f44ea",
   "metadata": {
    "execution": {
     "iopub.execute_input": "2024-09-12T20:57:14.691964Z",
     "iopub.status.busy": "2024-09-12T20:57:14.691504Z",
     "iopub.status.idle": "2024-09-12T20:57:14.750949Z",
     "shell.execute_reply": "2024-09-12T20:57:14.749393Z"
    },
    "papermill": {
     "duration": 0.092797,
     "end_time": "2024-09-12T20:57:14.753891",
     "exception": false,
     "start_time": "2024-09-12T20:57:14.661094",
     "status": "completed"
    },
    "tags": []
   },
   "outputs": [
    {
     "data": {
      "text/html": [
       "<div>\n",
       "<style scoped>\n",
       "    .dataframe tbody tr th:only-of-type {\n",
       "        vertical-align: middle;\n",
       "    }\n",
       "\n",
       "    .dataframe tbody tr th {\n",
       "        vertical-align: top;\n",
       "    }\n",
       "\n",
       "    .dataframe thead th {\n",
       "        text-align: right;\n",
       "    }\n",
       "</style>\n",
       "<table border=\"1\" class=\"dataframe\">\n",
       "  <thead>\n",
       "    <tr style=\"text-align: right;\">\n",
       "      <th></th>\n",
       "      <th>person_age</th>\n",
       "      <th>person_income</th>\n",
       "      <th>person_emp_length</th>\n",
       "      <th>loan_amnt</th>\n",
       "      <th>loan_status</th>\n",
       "      <th>loan_percent_income</th>\n",
       "      <th>cb_person_cred_hist_length</th>\n",
       "      <th>loan_int_rate1</th>\n",
       "      <th>person_home_ownership_OTHER</th>\n",
       "      <th>person_home_ownership_OWN</th>\n",
       "      <th>...</th>\n",
       "      <th>loan_intent_MEDICAL</th>\n",
       "      <th>loan_intent_PERSONAL</th>\n",
       "      <th>loan_intent_VENTURE</th>\n",
       "      <th>loan_grade_B</th>\n",
       "      <th>loan_grade_C</th>\n",
       "      <th>loan_grade_D</th>\n",
       "      <th>loan_grade_E</th>\n",
       "      <th>loan_grade_F</th>\n",
       "      <th>loan_grade_G</th>\n",
       "      <th>cb_person_default_on_file_1</th>\n",
       "    </tr>\n",
       "  </thead>\n",
       "  <tbody>\n",
       "    <tr>\n",
       "      <th>1</th>\n",
       "      <td>21</td>\n",
       "      <td>9600</td>\n",
       "      <td>5.0</td>\n",
       "      <td>1000</td>\n",
       "      <td>0</td>\n",
       "      <td>0.10</td>\n",
       "      <td>2</td>\n",
       "      <td>11.14</td>\n",
       "      <td>False</td>\n",
       "      <td>True</td>\n",
       "      <td>...</td>\n",
       "      <td>False</td>\n",
       "      <td>False</td>\n",
       "      <td>False</td>\n",
       "      <td>True</td>\n",
       "      <td>False</td>\n",
       "      <td>False</td>\n",
       "      <td>False</td>\n",
       "      <td>False</td>\n",
       "      <td>False</td>\n",
       "      <td>False</td>\n",
       "    </tr>\n",
       "    <tr>\n",
       "      <th>2</th>\n",
       "      <td>25</td>\n",
       "      <td>9600</td>\n",
       "      <td>1.0</td>\n",
       "      <td>5500</td>\n",
       "      <td>1</td>\n",
       "      <td>0.57</td>\n",
       "      <td>3</td>\n",
       "      <td>12.87</td>\n",
       "      <td>False</td>\n",
       "      <td>False</td>\n",
       "      <td>...</td>\n",
       "      <td>True</td>\n",
       "      <td>False</td>\n",
       "      <td>False</td>\n",
       "      <td>False</td>\n",
       "      <td>True</td>\n",
       "      <td>False</td>\n",
       "      <td>False</td>\n",
       "      <td>False</td>\n",
       "      <td>False</td>\n",
       "      <td>False</td>\n",
       "    </tr>\n",
       "    <tr>\n",
       "      <th>3</th>\n",
       "      <td>23</td>\n",
       "      <td>65500</td>\n",
       "      <td>4.0</td>\n",
       "      <td>35000</td>\n",
       "      <td>1</td>\n",
       "      <td>0.53</td>\n",
       "      <td>2</td>\n",
       "      <td>15.23</td>\n",
       "      <td>False</td>\n",
       "      <td>False</td>\n",
       "      <td>...</td>\n",
       "      <td>True</td>\n",
       "      <td>False</td>\n",
       "      <td>False</td>\n",
       "      <td>False</td>\n",
       "      <td>True</td>\n",
       "      <td>False</td>\n",
       "      <td>False</td>\n",
       "      <td>False</td>\n",
       "      <td>False</td>\n",
       "      <td>False</td>\n",
       "    </tr>\n",
       "    <tr>\n",
       "      <th>4</th>\n",
       "      <td>24</td>\n",
       "      <td>54400</td>\n",
       "      <td>8.0</td>\n",
       "      <td>35000</td>\n",
       "      <td>1</td>\n",
       "      <td>0.55</td>\n",
       "      <td>4</td>\n",
       "      <td>14.27</td>\n",
       "      <td>False</td>\n",
       "      <td>False</td>\n",
       "      <td>...</td>\n",
       "      <td>True</td>\n",
       "      <td>False</td>\n",
       "      <td>False</td>\n",
       "      <td>False</td>\n",
       "      <td>True</td>\n",
       "      <td>False</td>\n",
       "      <td>False</td>\n",
       "      <td>False</td>\n",
       "      <td>False</td>\n",
       "      <td>True</td>\n",
       "    </tr>\n",
       "    <tr>\n",
       "      <th>5</th>\n",
       "      <td>21</td>\n",
       "      <td>9900</td>\n",
       "      <td>2.0</td>\n",
       "      <td>2500</td>\n",
       "      <td>1</td>\n",
       "      <td>0.25</td>\n",
       "      <td>2</td>\n",
       "      <td>7.14</td>\n",
       "      <td>False</td>\n",
       "      <td>True</td>\n",
       "      <td>...</td>\n",
       "      <td>False</td>\n",
       "      <td>False</td>\n",
       "      <td>True</td>\n",
       "      <td>False</td>\n",
       "      <td>False</td>\n",
       "      <td>False</td>\n",
       "      <td>False</td>\n",
       "      <td>False</td>\n",
       "      <td>False</td>\n",
       "      <td>False</td>\n",
       "    </tr>\n",
       "    <tr>\n",
       "      <th>...</th>\n",
       "      <td>...</td>\n",
       "      <td>...</td>\n",
       "      <td>...</td>\n",
       "      <td>...</td>\n",
       "      <td>...</td>\n",
       "      <td>...</td>\n",
       "      <td>...</td>\n",
       "      <td>...</td>\n",
       "      <td>...</td>\n",
       "      <td>...</td>\n",
       "      <td>...</td>\n",
       "      <td>...</td>\n",
       "      <td>...</td>\n",
       "      <td>...</td>\n",
       "      <td>...</td>\n",
       "      <td>...</td>\n",
       "      <td>...</td>\n",
       "      <td>...</td>\n",
       "      <td>...</td>\n",
       "      <td>...</td>\n",
       "      <td>...</td>\n",
       "    </tr>\n",
       "    <tr>\n",
       "      <th>31524</th>\n",
       "      <td>57</td>\n",
       "      <td>53000</td>\n",
       "      <td>1.0</td>\n",
       "      <td>5800</td>\n",
       "      <td>0</td>\n",
       "      <td>0.11</td>\n",
       "      <td>30</td>\n",
       "      <td>13.16</td>\n",
       "      <td>False</td>\n",
       "      <td>False</td>\n",
       "      <td>...</td>\n",
       "      <td>False</td>\n",
       "      <td>True</td>\n",
       "      <td>False</td>\n",
       "      <td>False</td>\n",
       "      <td>True</td>\n",
       "      <td>False</td>\n",
       "      <td>False</td>\n",
       "      <td>False</td>\n",
       "      <td>False</td>\n",
       "      <td>False</td>\n",
       "    </tr>\n",
       "    <tr>\n",
       "      <th>31525</th>\n",
       "      <td>54</td>\n",
       "      <td>120000</td>\n",
       "      <td>4.0</td>\n",
       "      <td>17625</td>\n",
       "      <td>0</td>\n",
       "      <td>0.15</td>\n",
       "      <td>19</td>\n",
       "      <td>7.49</td>\n",
       "      <td>False</td>\n",
       "      <td>False</td>\n",
       "      <td>...</td>\n",
       "      <td>False</td>\n",
       "      <td>True</td>\n",
       "      <td>False</td>\n",
       "      <td>False</td>\n",
       "      <td>False</td>\n",
       "      <td>False</td>\n",
       "      <td>False</td>\n",
       "      <td>False</td>\n",
       "      <td>False</td>\n",
       "      <td>False</td>\n",
       "    </tr>\n",
       "    <tr>\n",
       "      <th>31526</th>\n",
       "      <td>65</td>\n",
       "      <td>76000</td>\n",
       "      <td>3.0</td>\n",
       "      <td>35000</td>\n",
       "      <td>1</td>\n",
       "      <td>0.46</td>\n",
       "      <td>28</td>\n",
       "      <td>10.99</td>\n",
       "      <td>False</td>\n",
       "      <td>False</td>\n",
       "      <td>...</td>\n",
       "      <td>False</td>\n",
       "      <td>False</td>\n",
       "      <td>False</td>\n",
       "      <td>True</td>\n",
       "      <td>False</td>\n",
       "      <td>False</td>\n",
       "      <td>False</td>\n",
       "      <td>False</td>\n",
       "      <td>False</td>\n",
       "      <td>False</td>\n",
       "    </tr>\n",
       "    <tr>\n",
       "      <th>31527</th>\n",
       "      <td>56</td>\n",
       "      <td>150000</td>\n",
       "      <td>5.0</td>\n",
       "      <td>15000</td>\n",
       "      <td>0</td>\n",
       "      <td>0.10</td>\n",
       "      <td>26</td>\n",
       "      <td>11.48</td>\n",
       "      <td>False</td>\n",
       "      <td>False</td>\n",
       "      <td>...</td>\n",
       "      <td>False</td>\n",
       "      <td>True</td>\n",
       "      <td>False</td>\n",
       "      <td>True</td>\n",
       "      <td>False</td>\n",
       "      <td>False</td>\n",
       "      <td>False</td>\n",
       "      <td>False</td>\n",
       "      <td>False</td>\n",
       "      <td>False</td>\n",
       "    </tr>\n",
       "    <tr>\n",
       "      <th>31528</th>\n",
       "      <td>66</td>\n",
       "      <td>42000</td>\n",
       "      <td>2.0</td>\n",
       "      <td>6475</td>\n",
       "      <td>0</td>\n",
       "      <td>0.15</td>\n",
       "      <td>30</td>\n",
       "      <td>9.99</td>\n",
       "      <td>False</td>\n",
       "      <td>False</td>\n",
       "      <td>...</td>\n",
       "      <td>True</td>\n",
       "      <td>False</td>\n",
       "      <td>False</td>\n",
       "      <td>True</td>\n",
       "      <td>False</td>\n",
       "      <td>False</td>\n",
       "      <td>False</td>\n",
       "      <td>False</td>\n",
       "      <td>False</td>\n",
       "      <td>False</td>\n",
       "    </tr>\n",
       "  </tbody>\n",
       "</table>\n",
       "<p>31516 rows × 23 columns</p>\n",
       "</div>"
      ],
      "text/plain": [
       "       person_age  person_income  person_emp_length  loan_amnt  loan_status  \\\n",
       "1              21           9600                5.0       1000            0   \n",
       "2              25           9600                1.0       5500            1   \n",
       "3              23          65500                4.0      35000            1   \n",
       "4              24          54400                8.0      35000            1   \n",
       "5              21           9900                2.0       2500            1   \n",
       "...           ...            ...                ...        ...          ...   \n",
       "31524          57          53000                1.0       5800            0   \n",
       "31525          54         120000                4.0      17625            0   \n",
       "31526          65          76000                3.0      35000            1   \n",
       "31527          56         150000                5.0      15000            0   \n",
       "31528          66          42000                2.0       6475            0   \n",
       "\n",
       "       loan_percent_income  cb_person_cred_hist_length  loan_int_rate1  \\\n",
       "1                     0.10                           2           11.14   \n",
       "2                     0.57                           3           12.87   \n",
       "3                     0.53                           2           15.23   \n",
       "4                     0.55                           4           14.27   \n",
       "5                     0.25                           2            7.14   \n",
       "...                    ...                         ...             ...   \n",
       "31524                 0.11                          30           13.16   \n",
       "31525                 0.15                          19            7.49   \n",
       "31526                 0.46                          28           10.99   \n",
       "31527                 0.10                          26           11.48   \n",
       "31528                 0.15                          30            9.99   \n",
       "\n",
       "       person_home_ownership_OTHER  person_home_ownership_OWN  ...  \\\n",
       "1                            False                       True  ...   \n",
       "2                            False                      False  ...   \n",
       "3                            False                      False  ...   \n",
       "4                            False                      False  ...   \n",
       "5                            False                       True  ...   \n",
       "...                            ...                        ...  ...   \n",
       "31524                        False                      False  ...   \n",
       "31525                        False                      False  ...   \n",
       "31526                        False                      False  ...   \n",
       "31527                        False                      False  ...   \n",
       "31528                        False                      False  ...   \n",
       "\n",
       "       loan_intent_MEDICAL  loan_intent_PERSONAL  loan_intent_VENTURE  \\\n",
       "1                    False                 False                False   \n",
       "2                     True                 False                False   \n",
       "3                     True                 False                False   \n",
       "4                     True                 False                False   \n",
       "5                    False                 False                 True   \n",
       "...                    ...                   ...                  ...   \n",
       "31524                False                  True                False   \n",
       "31525                False                  True                False   \n",
       "31526                False                 False                False   \n",
       "31527                False                  True                False   \n",
       "31528                 True                 False                False   \n",
       "\n",
       "       loan_grade_B  loan_grade_C  loan_grade_D  loan_grade_E  loan_grade_F  \\\n",
       "1              True         False         False         False         False   \n",
       "2             False          True         False         False         False   \n",
       "3             False          True         False         False         False   \n",
       "4             False          True         False         False         False   \n",
       "5             False         False         False         False         False   \n",
       "...             ...           ...           ...           ...           ...   \n",
       "31524         False          True         False         False         False   \n",
       "31525         False         False         False         False         False   \n",
       "31526          True         False         False         False         False   \n",
       "31527          True         False         False         False         False   \n",
       "31528          True         False         False         False         False   \n",
       "\n",
       "       loan_grade_G  cb_person_default_on_file_1  \n",
       "1             False                        False  \n",
       "2             False                        False  \n",
       "3             False                        False  \n",
       "4             False                         True  \n",
       "5             False                        False  \n",
       "...             ...                          ...  \n",
       "31524         False                        False  \n",
       "31525         False                        False  \n",
       "31526         False                        False  \n",
       "31527         False                        False  \n",
       "31528         False                        False  \n",
       "\n",
       "[31516 rows x 23 columns]"
      ]
     },
     "execution_count": 34,
     "metadata": {},
     "output_type": "execute_result"
    }
   ],
   "source": [
    "df = pd.get_dummies(df, columns=['person_home_ownership', 'loan_intent', 'loan_grade', 'cb_person_default_on_file'], drop_first=True)\n",
    "df"
   ]
  },
  {
   "cell_type": "code",
   "execution_count": 35,
   "id": "9ea0a7fb",
   "metadata": {
    "execution": {
     "iopub.execute_input": "2024-09-12T20:57:14.822195Z",
     "iopub.status.busy": "2024-09-12T20:57:14.821720Z",
     "iopub.status.idle": "2024-09-12T20:57:14.827536Z",
     "shell.execute_reply": "2024-09-12T20:57:14.826152Z"
    },
    "papermill": {
     "duration": 0.039588,
     "end_time": "2024-09-12T20:57:14.830050",
     "exception": false,
     "start_time": "2024-09-12T20:57:14.790462",
     "status": "completed"
    },
    "tags": []
   },
   "outputs": [],
   "source": [
    "numerical_cols = ['person_age', 'person_income', 'person_emp_length', 'loan_amnt', 'loan_int_rate1', 'loan_percent_income', 'cb_person_cred_hist_length']"
   ]
  },
  {
   "cell_type": "markdown",
   "id": "7e1b4706",
   "metadata": {
    "papermill": {
     "duration": 0.031293,
     "end_time": "2024-09-12T20:57:14.891427",
     "exception": false,
     "start_time": "2024-09-12T20:57:14.860134",
     "status": "completed"
    },
    "tags": []
   },
   "source": [
    "# Scaling"
   ]
  },
  {
   "cell_type": "code",
   "execution_count": 36,
   "id": "6262999f",
   "metadata": {
    "execution": {
     "iopub.execute_input": "2024-09-12T20:57:14.970384Z",
     "iopub.status.busy": "2024-09-12T20:57:14.968343Z",
     "iopub.status.idle": "2024-09-12T20:57:14.987212Z",
     "shell.execute_reply": "2024-09-12T20:57:14.985943Z"
    },
    "papermill": {
     "duration": 0.060972,
     "end_time": "2024-09-12T20:57:14.990085",
     "exception": false,
     "start_time": "2024-09-12T20:57:14.929113",
     "status": "completed"
    },
    "tags": []
   },
   "outputs": [],
   "source": [
    "scaler=StandardScaler()\n",
    "df[numerical_cols] = scaler.fit_transform(df[numerical_cols])"
   ]
  },
  {
   "cell_type": "code",
   "execution_count": 37,
   "id": "6203eb75",
   "metadata": {
    "execution": {
     "iopub.execute_input": "2024-09-12T20:57:15.053003Z",
     "iopub.status.busy": "2024-09-12T20:57:15.052557Z",
     "iopub.status.idle": "2024-09-12T20:57:15.061210Z",
     "shell.execute_reply": "2024-09-12T20:57:15.059749Z"
    },
    "papermill": {
     "duration": 0.043526,
     "end_time": "2024-09-12T20:57:15.064022",
     "exception": false,
     "start_time": "2024-09-12T20:57:15.020496",
     "status": "completed"
    },
    "tags": []
   },
   "outputs": [
    {
     "data": {
      "text/plain": [
       "(31516, 23)"
      ]
     },
     "execution_count": 37,
     "metadata": {},
     "output_type": "execute_result"
    }
   ],
   "source": [
    "df.shape"
   ]
  },
  {
   "cell_type": "markdown",
   "id": "00cb196f",
   "metadata": {
    "papermill": {
     "duration": 0.030213,
     "end_time": "2024-09-12T20:57:15.125790",
     "exception": false,
     "start_time": "2024-09-12T20:57:15.095577",
     "status": "completed"
    },
    "tags": []
   },
   "source": [
    "# Train Test split"
   ]
  },
  {
   "cell_type": "code",
   "execution_count": 38,
   "id": "683e5ede",
   "metadata": {
    "execution": {
     "iopub.execute_input": "2024-09-12T20:57:15.188812Z",
     "iopub.status.busy": "2024-09-12T20:57:15.188351Z",
     "iopub.status.idle": "2024-09-12T20:57:15.196809Z",
     "shell.execute_reply": "2024-09-12T20:57:15.195649Z"
    },
    "papermill": {
     "duration": 0.043589,
     "end_time": "2024-09-12T20:57:15.199595",
     "exception": false,
     "start_time": "2024-09-12T20:57:15.156006",
     "status": "completed"
    },
    "tags": []
   },
   "outputs": [],
   "source": [
    "X = df.drop('loan_status', axis=1)\n",
    "y = df['loan_status']"
   ]
  },
  {
   "cell_type": "code",
   "execution_count": 39,
   "id": "b2218071",
   "metadata": {
    "execution": {
     "iopub.execute_input": "2024-09-12T20:57:15.261554Z",
     "iopub.status.busy": "2024-09-12T20:57:15.260120Z",
     "iopub.status.idle": "2024-09-12T20:57:15.276692Z",
     "shell.execute_reply": "2024-09-12T20:57:15.275233Z"
    },
    "papermill": {
     "duration": 0.050591,
     "end_time": "2024-09-12T20:57:15.279796",
     "exception": false,
     "start_time": "2024-09-12T20:57:15.229205",
     "status": "completed"
    },
    "tags": []
   },
   "outputs": [],
   "source": [
    "X_train, X_test, y_train, y_test = train_test_split(X, y, train_size=0.8, random_state=42)"
   ]
  },
  {
   "cell_type": "code",
   "execution_count": 40,
   "id": "0be3b378",
   "metadata": {
    "execution": {
     "iopub.execute_input": "2024-09-12T20:57:15.341033Z",
     "iopub.status.busy": "2024-09-12T20:57:15.340574Z",
     "iopub.status.idle": "2024-09-12T20:57:15.347329Z",
     "shell.execute_reply": "2024-09-12T20:57:15.346085Z"
    },
    "papermill": {
     "duration": 0.040673,
     "end_time": "2024-09-12T20:57:15.350397",
     "exception": false,
     "start_time": "2024-09-12T20:57:15.309724",
     "status": "completed"
    },
    "tags": []
   },
   "outputs": [
    {
     "name": "stdout",
     "output_type": "stream",
     "text": [
      "(25212, 22)\n",
      "(6304, 22)\n",
      "(25212,)\n",
      "(6304,)\n"
     ]
    }
   ],
   "source": [
    "def shape(x):\n",
    "  print(x.shape)\n",
    "\n",
    "shape(X_train)\n",
    "shape(X_test)\n",
    "shape(y_train)\n",
    "shape(y_test)"
   ]
  },
  {
   "cell_type": "markdown",
   "id": "752efc48",
   "metadata": {
    "papermill": {
     "duration": 0.029588,
     "end_time": "2024-09-12T20:57:15.409537",
     "exception": false,
     "start_time": "2024-09-12T20:57:15.379949",
     "status": "completed"
    },
    "tags": []
   },
   "source": [
    "# Class Imbalance"
   ]
  },
  {
   "cell_type": "markdown",
   "id": "15912cb1",
   "metadata": {
    "papermill": {
     "duration": 0.029761,
     "end_time": "2024-09-12T20:57:15.469310",
     "exception": false,
     "start_time": "2024-09-12T20:57:15.439549",
     "status": "completed"
    },
    "tags": []
   },
   "source": []
  },
  {
   "cell_type": "code",
   "execution_count": 41,
   "id": "03218145",
   "metadata": {
    "execution": {
     "iopub.execute_input": "2024-09-12T20:57:15.530159Z",
     "iopub.status.busy": "2024-09-12T20:57:15.529669Z",
     "iopub.status.idle": "2024-09-12T20:57:15.535508Z",
     "shell.execute_reply": "2024-09-12T20:57:15.534285Z"
    },
    "papermill": {
     "duration": 0.039434,
     "end_time": "2024-09-12T20:57:15.538138",
     "exception": false,
     "start_time": "2024-09-12T20:57:15.498704",
     "status": "completed"
    },
    "tags": []
   },
   "outputs": [],
   "source": [
    "sm=SMOTE()"
   ]
  },
  {
   "cell_type": "code",
   "execution_count": 42,
   "id": "a6b1a4d6",
   "metadata": {
    "execution": {
     "iopub.execute_input": "2024-09-12T20:57:15.599091Z",
     "iopub.status.busy": "2024-09-12T20:57:15.598644Z",
     "iopub.status.idle": "2024-09-12T20:57:15.799650Z",
     "shell.execute_reply": "2024-09-12T20:57:15.798442Z"
    },
    "papermill": {
     "duration": 0.234699,
     "end_time": "2024-09-12T20:57:15.802456",
     "exception": false,
     "start_time": "2024-09-12T20:57:15.567757",
     "status": "completed"
    },
    "tags": []
   },
   "outputs": [],
   "source": [
    "X_train, y_train=sm.fit_resample(X_train,y_train)"
   ]
  },
  {
   "cell_type": "markdown",
   "id": "63fa8992",
   "metadata": {
    "papermill": {
     "duration": 0.029766,
     "end_time": "2024-09-12T20:57:15.922406",
     "exception": false,
     "start_time": "2024-09-12T20:57:15.892640",
     "status": "completed"
    },
    "tags": []
   },
   "source": [
    "# MODEL BUILDING"
   ]
  },
  {
   "cell_type": "code",
   "execution_count": 43,
   "id": "efc17f36",
   "metadata": {
    "execution": {
     "iopub.execute_input": "2024-09-12T20:57:15.984699Z",
     "iopub.status.busy": "2024-09-12T20:57:15.984134Z",
     "iopub.status.idle": "2024-09-12T20:57:15.991780Z",
     "shell.execute_reply": "2024-09-12T20:57:15.990644Z"
    },
    "papermill": {
     "duration": 0.042197,
     "end_time": "2024-09-12T20:57:15.994539",
     "exception": false,
     "start_time": "2024-09-12T20:57:15.952342",
     "status": "completed"
    },
    "tags": []
   },
   "outputs": [],
   "source": [
    "models = {\n",
    "    'Support Vector Machine': SVC(probability=True),\n",
    "    'K-Nearest Neighbors': KNeighborsClassifier(),\n",
    "    'Decision Tree': DecisionTreeClassifier(),\n",
    "    'Logistic Regression': LogisticRegression(),\n",
    "    'Random Forest': RandomForestClassifier(),\n",
    "    'AdaBoost': AdaBoostClassifier(),\n",
    "    'Bagging Classifier': BaggingClassifier(),\n",
    "    'Gradient Boosting': GradientBoostingClassifier(),\n",
    "    'XGBoost': XGBClassifier(),\n",
    "    'LightGBM': lgb.LGBMClassifier()\n",
    "}"
   ]
  },
  {
   "cell_type": "code",
   "execution_count": 44,
   "id": "cbe0a9f4",
   "metadata": {
    "execution": {
     "iopub.execute_input": "2024-09-12T20:57:16.056242Z",
     "iopub.status.busy": "2024-09-12T20:57:16.055791Z",
     "iopub.status.idle": "2024-09-12T21:04:07.048099Z",
     "shell.execute_reply": "2024-09-12T21:04:07.046680Z"
    },
    "papermill": {
     "duration": 411.027026,
     "end_time": "2024-09-12T21:04:07.051348",
     "exception": false,
     "start_time": "2024-09-12T20:57:16.024322",
     "status": "completed"
    },
    "tags": []
   },
   "outputs": [
    {
     "name": "stdout",
     "output_type": "stream",
     "text": [
      "[LightGBM] [Info] Number of positive: 19757, number of negative: 19757\n",
      "[LightGBM] [Info] Auto-choosing row-wise multi-threading, the overhead of testing was 0.014043 seconds.\n",
      "You can set `force_row_wise=true` to remove the overhead.\n",
      "And if memory is not enough, you can set `force_col_wise=true`.\n",
      "[LightGBM] [Info] Total Bins 1815\n",
      "[LightGBM] [Info] Number of data points in the train set: 39514, number of used features: 22\n",
      "[LightGBM] [Info] [binary:BoostFromScore]: pavg=0.500000 -> initscore=0.000000\n",
      "                        Accuracy  Precision    Recall  F1 Score   ROC AUC\n",
      "Support Vector Machine  0.882138   0.716111  0.746302  0.730895  0.903328\n",
      "K-Nearest Neighbors     0.815514   0.551109  0.753698  0.636676  0.850222\n",
      "Decision Tree           0.867069   0.669749  0.750000  0.707606  0.824515\n",
      "Logistic Regression     0.812659   0.545358  0.760355  0.635156  0.862173\n",
      "Random Forest           0.922272   0.887590  0.730030  0.801136  0.922820\n",
      "AdaBoost                0.849937   0.624083  0.755178  0.683400  0.883212\n",
      "Bagging Classifier      0.914340   0.860568  0.716716  0.782082  0.901024\n",
      "Gradient Boosting       0.897843   0.771057  0.744822  0.757713  0.913038\n",
      "XGBoost                 0.929569   0.932381  0.724112  0.815154  0.937332\n",
      "LightGBM                0.930203   0.944444  0.716716  0.814971  0.930887\n"
     ]
    }
   ],
   "source": [
    "model_results = {}\n",
    "for name, model in models.items():\n",
    "    model.fit(X_train, y_train)\n",
    "    y_pred = model.predict(X_test)\n",
    "    y_pred_proba = model.predict_proba(X_test)[:, 1] if hasattr(model, 'predict_proba') else y_pred\n",
    "\n",
    "    model_results[name] = {\n",
    "        'Accuracy': accuracy_score(y_test, y_pred),\n",
    "        'Precision': precision_score(y_test, y_pred),\n",
    "        'Recall': recall_score(y_test, y_pred),\n",
    "        'F1 Score': f1_score(y_test, y_pred),\n",
    "        'ROC AUC': roc_auc_score(y_test, y_pred_proba)\n",
    "    }\n",
    "\n",
    "# Convert results to DataFrame\n",
    "results_df = pd.DataFrame(model_results).T\n",
    "print(results_df)"
   ]
  },
  {
   "cell_type": "markdown",
   "id": "01833c40",
   "metadata": {
    "papermill": {
     "duration": 0.030572,
     "end_time": "2024-09-12T21:04:07.112880",
     "exception": false,
     "start_time": "2024-09-12T21:04:07.082308",
     "status": "completed"
    },
    "tags": []
   },
   "source": []
  },
  {
   "cell_type": "markdown",
   "id": "ae2b0fe5",
   "metadata": {
    "papermill": {
     "duration": 0.031062,
     "end_time": "2024-09-12T21:04:07.176032",
     "exception": false,
     "start_time": "2024-09-12T21:04:07.144970",
     "status": "completed"
    },
    "tags": []
   },
   "source": [
    "#  Our top 3 classifiers are \n",
    "# 1.LightGBM \n",
    "# 2.XGBoost.\n",
    "# 3.Random Forest\n"
   ]
  },
  {
   "cell_type": "markdown",
   "id": "78b2578d",
   "metadata": {
    "papermill": {
     "duration": 0.029594,
     "end_time": "2024-09-12T21:04:07.358339",
     "exception": false,
     "start_time": "2024-09-12T21:04:07.328745",
     "status": "completed"
    },
    "tags": []
   },
   "source": []
  }
 ],
 "metadata": {
  "kaggle": {
   "accelerator": "none",
   "dataSources": [
    {
     "datasetId": 688532,
     "sourceId": 1207035,
     "sourceType": "datasetVersion"
    }
   ],
   "dockerImageVersionId": 30761,
   "isGpuEnabled": false,
   "isInternetEnabled": false,
   "language": "python",
   "sourceType": "notebook"
  },
  "kernelspec": {
   "display_name": "Python 3",
   "language": "python",
   "name": "python3"
  },
  "language_info": {
   "codemirror_mode": {
    "name": "ipython",
    "version": 3
   },
   "file_extension": ".py",
   "mimetype": "text/x-python",
   "name": "python",
   "nbconvert_exporter": "python",
   "pygments_lexer": "ipython3",
   "version": "3.12.7"
  },
  "papermill": {
   "default_parameters": {},
   "duration": 432.864122,
   "end_time": "2024-09-12T21:04:08.313391",
   "environment_variables": {},
   "exception": null,
   "input_path": "__notebook__.ipynb",
   "output_path": "__notebook__.ipynb",
   "parameters": {},
   "start_time": "2024-09-12T20:56:55.449269",
   "version": "2.6.0"
  }
 },
 "nbformat": 4,
 "nbformat_minor": 5
}
